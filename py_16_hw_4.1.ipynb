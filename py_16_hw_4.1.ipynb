{
 "cells": [
  {
   "cell_type": "markdown",
   "metadata": {},
   "source": [
    "# ДЗ по теме «Инструменты для оперативной работы с данными»"
   ]
  },
  {
   "cell_type": "markdown",
   "metadata": {},
   "source": [
    "**Дано:** данные о популярности имен для новорожденных, скачивается по ссылке*\n",
    "Добавлять исходные данные в репозиторий с выполненным заданием необязательно, \n",
    "но в блокноте необходимо выделить путь к файлам в отдельную переменную, которую легко поменять.\n",
    "\n",
    "## Задача №1\n",
    "С использованием Pandas написать функцию, которая загружает указанные года и выводит ТОП-3 популярных имен. Например:\n",
    "\n",
    "count_top3([1880]) == ['John', 'William', 'Mary']\n",
    "\n",
    "count_top3([1900, 1950, 2000]) == ['James', 'John', 'Robert']"
   ]
  },
  {
   "cell_type": "code",
   "execution_count": 80,
   "metadata": {},
   "outputs": [
    {
     "name": "stdout",
     "output_type": "stream",
     "text": [
      "Python version 3.6.5 |Anaconda, Inc.| (default, Apr 26 2018, 08:42:37) \n",
      "[GCC 4.2.1 Compatible Clang 4.0.1 (tags/RELEASE_401/final)]\n",
      "Pandas version 0.23.0\n",
      "Matplotlib version 2.2.2\n"
     ]
    }
   ],
   "source": [
    "import pandas as pd\n",
    "import numpy as np\n",
    "import matplotlib.pyplot as plt\n",
    "import os\n",
    "import sys\n",
    "import matplotlib\n",
    "\n",
    "print('Python version ' + sys.version)\n",
    "print('Pandas version ' + pd.__version__)\n",
    "print('Matplotlib version ' + matplotlib.__version__)"
   ]
  },
  {
   "cell_type": "code",
   "execution_count": 3,
   "metadata": {},
   "outputs": [
    {
     "data": {
      "text/plain": [
       "'/Users/aleksejkonotop/hw_py_16/py_16_hw_4.1/names/'"
      ]
     },
     "execution_count": 3,
     "metadata": {},
     "output_type": "execute_result"
    }
   ],
   "source": [
    "# Получим путь до папки с данными\n",
    "DATA_PATH = f'{os.getcwd()}/names/'\n",
    "DATA_PATH"
   ]
  },
  {
   "cell_type": "code",
   "execution_count": 34,
   "metadata": {
    "collapsed": true
   },
   "outputs": [
    {
     "data": {
      "text/plain": [
       "{1880: 'yob1880.txt',\n",
       " 1881: 'yob1881.txt',\n",
       " 1882: 'yob1882.txt',\n",
       " 1883: 'yob1883.txt',\n",
       " 1884: 'yob1884.txt',\n",
       " 1885: 'yob1885.txt',\n",
       " 1886: 'yob1886.txt',\n",
       " 1887: 'yob1887.txt',\n",
       " 1888: 'yob1888.txt',\n",
       " 1889: 'yob1889.txt',\n",
       " 1890: 'yob1890.txt',\n",
       " 1891: 'yob1891.txt',\n",
       " 1892: 'yob1892.txt',\n",
       " 1893: 'yob1893.txt',\n",
       " 1894: 'yob1894.txt',\n",
       " 1895: 'yob1895.txt',\n",
       " 1896: 'yob1896.txt',\n",
       " 1897: 'yob1897.txt',\n",
       " 1898: 'yob1898.txt',\n",
       " 1899: 'yob1899.txt',\n",
       " 1900: 'yob1900.txt',\n",
       " 1901: 'yob1901.txt',\n",
       " 1902: 'yob1902.txt',\n",
       " 1903: 'yob1903.txt',\n",
       " 1904: 'yob1904.txt',\n",
       " 1905: 'yob1905.txt',\n",
       " 1906: 'yob1906.txt',\n",
       " 1907: 'yob1907.txt',\n",
       " 1908: 'yob1908.txt',\n",
       " 1909: 'yob1909.txt',\n",
       " 1910: 'yob1910.txt',\n",
       " 1911: 'yob1911.txt',\n",
       " 1912: 'yob1912.txt',\n",
       " 1913: 'yob1913.txt',\n",
       " 1914: 'yob1914.txt',\n",
       " 1915: 'yob1915.txt',\n",
       " 1916: 'yob1916.txt',\n",
       " 1917: 'yob1917.txt',\n",
       " 1918: 'yob1918.txt',\n",
       " 1919: 'yob1919.txt',\n",
       " 1920: 'yob1920.txt',\n",
       " 1921: 'yob1921.txt',\n",
       " 1922: 'yob1922.txt',\n",
       " 1923: 'yob1923.txt',\n",
       " 1924: 'yob1924.txt',\n",
       " 1925: 'yob1925.txt',\n",
       " 1926: 'yob1926.txt',\n",
       " 1927: 'yob1927.txt',\n",
       " 1928: 'yob1928.txt',\n",
       " 1929: 'yob1929.txt',\n",
       " 1930: 'yob1930.txt',\n",
       " 1931: 'yob1931.txt',\n",
       " 1932: 'yob1932.txt',\n",
       " 1933: 'yob1933.txt',\n",
       " 1934: 'yob1934.txt',\n",
       " 1935: 'yob1935.txt',\n",
       " 1936: 'yob1936.txt',\n",
       " 1937: 'yob1937.txt',\n",
       " 1938: 'yob1938.txt',\n",
       " 1939: 'yob1939.txt',\n",
       " 1940: 'yob1940.txt',\n",
       " 1941: 'yob1941.txt',\n",
       " 1942: 'yob1942.txt',\n",
       " 1943: 'yob1943.txt',\n",
       " 1944: 'yob1944.txt',\n",
       " 1945: 'yob1945.txt',\n",
       " 1946: 'yob1946.txt',\n",
       " 1947: 'yob1947.txt',\n",
       " 1948: 'yob1948.txt',\n",
       " 1949: 'yob1949.txt',\n",
       " 1950: 'yob1950.txt',\n",
       " 1951: 'yob1951.txt',\n",
       " 1952: 'yob1952.txt',\n",
       " 1953: 'yob1953.txt',\n",
       " 1954: 'yob1954.txt',\n",
       " 1955: 'yob1955.txt',\n",
       " 1956: 'yob1956.txt',\n",
       " 1957: 'yob1957.txt',\n",
       " 1958: 'yob1958.txt',\n",
       " 1959: 'yob1959.txt',\n",
       " 1960: 'yob1960.txt',\n",
       " 1961: 'yob1961.txt',\n",
       " 1962: 'yob1962.txt',\n",
       " 1963: 'yob1963.txt',\n",
       " 1964: 'yob1964.txt',\n",
       " 1965: 'yob1965.txt',\n",
       " 1966: 'yob1966.txt',\n",
       " 1967: 'yob1967.txt',\n",
       " 1968: 'yob1968.txt',\n",
       " 1969: 'yob1969.txt',\n",
       " 1970: 'yob1970.txt',\n",
       " 1971: 'yob1971.txt',\n",
       " 1972: 'yob1972.txt',\n",
       " 1973: 'yob1973.txt',\n",
       " 1974: 'yob1974.txt',\n",
       " 1975: 'yob1975.txt',\n",
       " 1976: 'yob1976.txt',\n",
       " 1977: 'yob1977.txt',\n",
       " 1978: 'yob1978.txt',\n",
       " 1979: 'yob1979.txt',\n",
       " 1980: 'yob1980.txt',\n",
       " 1981: 'yob1981.txt',\n",
       " 1982: 'yob1982.txt',\n",
       " 1983: 'yob1983.txt',\n",
       " 1984: 'yob1984.txt',\n",
       " 1985: 'yob1985.txt',\n",
       " 1986: 'yob1986.txt',\n",
       " 1987: 'yob1987.txt',\n",
       " 1988: 'yob1988.txt',\n",
       " 1989: 'yob1989.txt',\n",
       " 1990: 'yob1990.txt',\n",
       " 1991: 'yob1991.txt',\n",
       " 1992: 'yob1992.txt',\n",
       " 1993: 'yob1993.txt',\n",
       " 1994: 'yob1994.txt',\n",
       " 1995: 'yob1995.txt',\n",
       " 1996: 'yob1996.txt',\n",
       " 1997: 'yob1997.txt',\n",
       " 1998: 'yob1998.txt',\n",
       " 1999: 'yob1999.txt',\n",
       " 2000: 'yob2000.txt',\n",
       " 2001: 'yob2001.txt',\n",
       " 2002: 'yob2002.txt',\n",
       " 2003: 'yob2003.txt',\n",
       " 2004: 'yob2004.txt',\n",
       " 2005: 'yob2005.txt',\n",
       " 2006: 'yob2006.txt',\n",
       " 2007: 'yob2007.txt',\n",
       " 2008: 'yob2008.txt',\n",
       " 2009: 'yob2009.txt',\n",
       " 2010: 'yob2010.txt',\n",
       " 2011: 'yob2011.txt',\n",
       " 2012: 'yob2012.txt',\n",
       " 2013: 'yob2013.txt',\n",
       " 2014: 'yob2014.txt',\n",
       " 2015: 'yob2015.txt',\n",
       " 2016: 'yob2016.txt',\n",
       " 2017: 'yob2017.txt'}"
      ]
     },
     "execution_count": 34,
     "metadata": {},
     "output_type": "execute_result"
    }
   ],
   "source": [
    "# Сгенерим названия файлов по годам\n",
    "FILE_NAMES = {}\n",
    "for year in list(range(1880, 2018, 1)):\n",
    "    # FILE_NAMES[year] = ['yob' + str(year) + '.txt', 'names_' + str(year)]\n",
    "    FILE_NAMES[year] = 'yob' + str(year) + '.txt'\n",
    "FILE_NAMES"
   ]
  },
  {
   "cell_type": "code",
   "execution_count": null,
   "metadata": {},
   "outputs": [],
   "source": []
  },
  {
   "cell_type": "code",
   "execution_count": 78,
   "metadata": {},
   "outputs": [],
   "source": [
    "# Напишем функцию, которая будет принимать год и возвращать объект pandas прочитанного файла\n",
    "def get_data_by_year(year):\n",
    "    \"\"\"Функция получает на вход значение года, \n",
    "    строит путь до файла с этим именем, \n",
    "    создает и возвращает объект pandas.\n",
    "    \"\"\"\n",
    "    names_by_year = pd.read_csv(DATA_PATH + FILE_NAMES[year], names = ['Name', 'Gender', 'Count'])\n",
    "    return names_by_year\n",
    "# print(get_data_by_year(1880)[:10])\n",
    "    "
   ]
  },
  {
   "cell_type": "code",
   "execution_count": 110,
   "metadata": {},
   "outputs": [
    {
     "name": "stdout",
     "output_type": "stream",
     "text": [
      "Введите года через запятую: 1880\n"
     ]
    },
    {
     "data": {
      "text/plain": [
       "['John', 'William', 'Mary']"
      ]
     },
     "execution_count": 110,
     "metadata": {},
     "output_type": "execute_result"
    }
   ],
   "source": [
    "def count_top3(years_lst):\n",
    "    years = [int(x) for x in years_lst]\n",
    "    data_by_year = [get_data_by_year(year) for year in years] # Получили список объектов pandas для последующего соединения\n",
    "    all_names_in_request = pd.concat(data_by_year)\n",
    "    all_names_in_request = all_names_in_request.groupby('Name').sum()\n",
    "    all_names_in_request = all_names_in_request.reset_index()\n",
    "    sorted_data = all_names_in_request.sort_values(by='Count', ascending=False).head(3)\n",
    "    return [name for name in sorted_data.Name]\n",
    "    \n",
    "count_top3(input('Введите года через запятую: ').split(', ')) # == ['James', 'John', 'Robert']"
   ]
  },
  {
   "cell_type": "markdown",
   "metadata": {},
   "source": [
    "# Задача №2\n",
    "С использованием Pandas написать функцию, которая возвращает динамику изменения количества имен за указанные года в разрезе полов. Например:\n",
    "\n",
    "count_dynamics([1900, 1950, 2000]) == {\n",
    "  \n",
    "      'F': [299810, 1713259, 1814922],\n",
    "  \n",
    "      'M': [150486, 1790871, 1962744]\n",
    "\n",
    "}"
   ]
  }
 ],
 "metadata": {
  "kernelspec": {
   "display_name": "Python 3",
   "language": "python",
   "name": "python3"
  },
  "language_info": {
   "codemirror_mode": {
    "name": "ipython",
    "version": 3
   },
   "file_extension": ".py",
   "mimetype": "text/x-python",
   "name": "python",
   "nbconvert_exporter": "python",
   "pygments_lexer": "ipython3",
   "version": "3.6.5"
  }
 },
 "nbformat": 4,
 "nbformat_minor": 2
}
